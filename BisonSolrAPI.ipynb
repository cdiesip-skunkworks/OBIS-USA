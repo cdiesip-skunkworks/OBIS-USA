{
 "cells": [
  {
   "cell_type": "code",
   "execution_count": null,
   "metadata": {
    "collapsed": false
   },
   "outputs": [],
   "source": [
    "#Was not able to figure out solr api for bison on our own.  Derek M. ended up sending us an example that we received right \n",
    "#before the hack ended.  Querying variables like the year was quickly tested but did not alter results.\n",
    "\n",
    "#http://bisonapi.usgs.ornl.gov/solr/occurrences/select/?q=*:*&bison%20bison&type=scientific_name&wt=csv\n",
    "import pandas as pd\n",
    "\n",
    "species = 'Bison%20bison'\n",
    "#start_date = '2016-01-01'\n",
    "year = '2014'\n",
    "\n",
    "#Example given to use by Derek M.\n",
    "#http://bisonapi.usgs.ornl.gov/solr/occurrences/select/?q=ITISscientificName:%22Hylocichla%20mustelina%22&start=0&wt=csv&rows=10\n",
    "\n",
    "url1 = 'http://bisonapi.usgs.ornl.gov/solr/occurrences/select/?q='\n",
    "url2 = 'ITISscientificName:%22' + species + '%22'\n",
    "#url4 = '&type=scientific_name'\n",
    "url3 = '&start=0'\n",
    "#url4 = '&year=' + year\n",
    "url5 = '&rows=10'\n",
    "url7 = '&wt=csv'\n",
    "#url5 = '&year=2000'\n",
    "#url6 = '&count=1'\n",
    "\n",
    "\n",
    "\n",
    "url = url1 + url2 + url3 + url5 + url7\n",
    "\n",
    "#return url\n",
    "print url\n",
    "bisondata = pd.read_csv(url, sep=',')"
   ]
  },
  {
   "cell_type": "code",
   "execution_count": null,
   "metadata": {
    "collapsed": false
   },
   "outputs": [],
   "source": [
    "bisondata.head()\n"
   ]
  },
  {
   "cell_type": "code",
   "execution_count": null,
   "metadata": {
    "collapsed": false
   },
   "outputs": [],
   "source": [
    "#Explores possibility of handling json return from query to alter data\n",
    "\n",
    "import os, sys, urllib, shutil, zipfile, time\n",
    "import requests\n",
    "\n",
    "get_url = \"\"\"http://bisonapi.usgs.ornl.gov/solr/occurrences/select/?q=ITISscientificName:%22Bison%20bison%22&start=0&rows=10&wt=json\"\"\"\n",
    "hash_store = {}\n",
    "example = []\n",
    "\n",
    "\n",
    "# In[2]:\n",
    "\n",
    "r = requests.get(get_url)\n",
    "#sets to json format\n",
    "json_output = r.json()\n",
    "\n",
    "\n",
    "# In[3]:\n",
    "\n",
    "json_output"
   ]
  },
  {
   "cell_type": "code",
   "execution_count": null,
   "metadata": {
    "collapsed": true
   },
   "outputs": [],
   "source": []
  },
  {
   "cell_type": "code",
   "execution_count": null,
   "metadata": {
    "collapsed": true
   },
   "outputs": [],
   "source": []
  }
 ],
 "metadata": {
  "kernelspec": {
   "display_name": "Python 2",
   "language": "python",
   "name": "python2"
  },
  "language_info": {
   "codemirror_mode": {
    "name": "ipython",
    "version": 2
   },
   "file_extension": ".py",
   "mimetype": "text/x-python",
   "name": "python",
   "nbconvert_exporter": "python",
   "pygments_lexer": "ipython2",
   "version": "2.7.11"
  }
 },
 "nbformat": 4,
 "nbformat_minor": 0
}
